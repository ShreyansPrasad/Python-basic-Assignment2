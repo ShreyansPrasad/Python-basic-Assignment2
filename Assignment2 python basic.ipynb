{
 "cells": [
  {
   "cell_type": "markdown",
   "id": "b2941a4f",
   "metadata": {},
   "source": [
    "#Answer1"
   ]
  },
  {
   "cell_type": "code",
   "execution_count": null,
   "id": "5c9979e1",
   "metadata": {},
   "outputs": [],
   "source": [
    "The two values of boolean data type are True and False.\n",
    "They are written as:\n",
    "    True:1\n",
    "    False:0"
   ]
  },
  {
   "cell_type": "markdown",
   "id": "2896e299",
   "metadata": {},
   "source": [
    "#Answer2"
   ]
  },
  {
   "cell_type": "code",
   "execution_count": null,
   "id": "d309f57c",
   "metadata": {},
   "outputs": [],
   "source": [
    "Three different type of boolean operator are : AND, OR, and NOT."
   ]
  },
  {
   "cell_type": "markdown",
   "id": "7df69491",
   "metadata": {},
   "source": [
    "#Answer3"
   ]
  },
  {
   "cell_type": "code",
   "execution_count": null,
   "id": "7df2b444",
   "metadata": {},
   "outputs": [],
   "source": [
    "#Truth table for AND operator\n",
    "0*0=0\n",
    "0*1=0\n",
    "1*0=0\n",
    "1*1=1\n",
    "\n",
    "#Truth table for OR operator\n",
    "0+0=0\n",
    "0+1=1\n",
    "1+0=1\n",
    "1+1=1\n",
    "\n",
    "#Truth table for NOT operator\n",
    "Input -0, Output- 1\n",
    "Input-1, Output-0"
   ]
  },
  {
   "cell_type": "markdown",
   "id": "f6215189",
   "metadata": {},
   "source": [
    "#Answer4"
   ]
  },
  {
   "cell_type": "code",
   "execution_count": null,
   "id": "45b8f2ab",
   "metadata": {},
   "outputs": [],
   "source": [
    "(5>4)and(3==5) : False\n",
    "not(5>4) : False\n",
    "(5>4)or(3==5) : True\n",
    "not((5>4)or(3==5))  : False\n",
    "(True and True)and(True==False) : False\n",
    "(not(False))or(not(True)) : True\n",
    "    "
   ]
  },
  {
   "cell_type": "markdown",
   "id": "4f5c217c",
   "metadata": {},
   "source": [
    "#Answer5"
   ]
  },
  {
   "cell_type": "code",
   "execution_count": null,
   "id": "0e90727f",
   "metadata": {},
   "outputs": [],
   "source": [
    "The six comparison operators are:\n",
    "    Less than: <\n",
    "    Less than equal to: <=\n",
    "    Greater than: >\n",
    "    Greater than equal to: >=\n",
    "    Equal to: ==\n",
    "    Not equal to: !="
   ]
  },
  {
   "cell_type": "markdown",
   "id": "59fb249c",
   "metadata": {},
   "source": [
    "#Answer6"
   ]
  },
  {
   "cell_type": "code",
   "execution_count": null,
   "id": "a3f269a1",
   "metadata": {},
   "outputs": [],
   "source": [
    "The \"=\" is an assignment operator, which is used to assign the value on the right to the variable on the left.\n",
    "e.g.: a=10 #assigning value 10 to the variable a\n",
    "The \"==\" is an equal to operator, which is used to check whether the two given operands are equal or not, and if so it\n",
    "returns True otherwise False.\n",
    "e.g.: 9==9 will return True\n",
    "      9==4 will return False"
   ]
  },
  {
   "cell_type": "markdown",
   "id": "ffcf34c6",
   "metadata": {},
   "source": [
    "#Answer7"
   ]
  },
  {
   "cell_type": "code",
   "execution_count": null,
   "id": "ed1c5330",
   "metadata": {},
   "outputs": [],
   "source": [
    "The three blocks are:\n",
    "1)Everything inside first if statement\n",
    "2)line print(\"bacon\")\n",
    "3)line print(\"ham\")"
   ]
  },
  {
   "cell_type": "markdown",
   "id": "ce628171",
   "metadata": {},
   "source": [
    "#Answer8"
   ]
  },
  {
   "cell_type": "code",
   "execution_count": 2,
   "id": "b8073754",
   "metadata": {},
   "outputs": [
    {
     "name": "stdout",
     "output_type": "stream",
     "text": [
      "2\n",
      "Howdy\n"
     ]
    }
   ],
   "source": [
    "spam=int(input())\n",
    "if spam == 1:\n",
    "    print(\"Hello\")\n",
    "elif spam ==2:\n",
    "    print(\"Howdy\")\n",
    "else:\n",
    "    print(\"Greetings\")"
   ]
  },
  {
   "cell_type": "markdown",
   "id": "44b5741e",
   "metadata": {},
   "source": [
    "#Answer9"
   ]
  },
  {
   "cell_type": "code",
   "execution_count": null,
   "id": "f5a69c8b",
   "metadata": {},
   "outputs": [],
   "source": [
    "If my programme is stuck in endless loop then I need to press \"CTRL+C"
   ]
  },
  {
   "cell_type": "markdown",
   "id": "2106bff7",
   "metadata": {},
   "source": [
    "#Answer10"
   ]
  },
  {
   "cell_type": "code",
   "execution_count": null,
   "id": "9d11050e",
   "metadata": {},
   "outputs": [],
   "source": [
    "The break statement is used to leave/stop the loop.\n",
    "The continue statement is used to skip a particular iteration in a loop."
   ]
  },
  {
   "cell_type": "markdown",
   "id": "a231fafa",
   "metadata": {},
   "source": [
    "#Answer11"
   ]
  },
  {
   "cell_type": "code",
   "execution_count": null,
   "id": "e99c858d",
   "metadata": {},
   "outputs": [],
   "source": [
    "range(10),range(0,10) and range(0,10,1) all are same as for all starting point is 0, end point is 9 and step is 1."
   ]
  },
  {
   "cell_type": "markdown",
   "id": "a58f15d1",
   "metadata": {},
   "source": [
    "#Answer12"
   ]
  },
  {
   "cell_type": "code",
   "execution_count": 4,
   "id": "767d70b0",
   "metadata": {},
   "outputs": [
    {
     "name": "stdout",
     "output_type": "stream",
     "text": [
      "0\n",
      "1\n",
      "2\n",
      "3\n",
      "4\n",
      "5\n",
      "6\n",
      "7\n",
      "8\n",
      "9\n",
      "10\n"
     ]
    }
   ],
   "source": [
    "for i in range(0,11):\n",
    "    print(i)"
   ]
  },
  {
   "cell_type": "code",
   "execution_count": 6,
   "id": "54c01532",
   "metadata": {},
   "outputs": [
    {
     "name": "stdout",
     "output_type": "stream",
     "text": [
      "0\n",
      "1\n",
      "2\n",
      "3\n",
      "4\n",
      "5\n",
      "6\n",
      "7\n",
      "8\n",
      "9\n",
      "10\n"
     ]
    }
   ],
   "source": [
    "n=0\n",
    "while n <11:\n",
    "    print(n)\n",
    "    n=n+1"
   ]
  },
  {
   "cell_type": "markdown",
   "id": "1a152848",
   "metadata": {},
   "source": [
    "#Answer13"
   ]
  },
  {
   "cell_type": "code",
   "execution_count": null,
   "id": "29c0b4e8",
   "metadata": {},
   "outputs": [],
   "source": [
    "It can be called as:\n",
    "spam.bacon()"
   ]
  }
 ],
 "metadata": {
  "kernelspec": {
   "display_name": "Python 3 (ipykernel)",
   "language": "python",
   "name": "python3"
  },
  "language_info": {
   "codemirror_mode": {
    "name": "ipython",
    "version": 3
   },
   "file_extension": ".py",
   "mimetype": "text/x-python",
   "name": "python",
   "nbconvert_exporter": "python",
   "pygments_lexer": "ipython3",
   "version": "3.9.7"
  }
 },
 "nbformat": 4,
 "nbformat_minor": 5
}
